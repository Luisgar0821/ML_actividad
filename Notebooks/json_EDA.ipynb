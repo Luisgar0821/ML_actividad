{
 "cells": [
  {
   "cell_type": "markdown",
   "id": "e13b5dea",
   "metadata": {},
   "source": [
    "## EDA documento .JSON"
   ]
  },
  {
   "cell_type": "markdown",
   "id": "c9cf5510",
   "metadata": {},
   "source": [
    "Luis Angel Garcia (2230177)"
   ]
  },
  {
   "cell_type": "markdown",
   "id": "0e4f2fae",
   "metadata": {},
   "source": [
    "## Librerias"
   ]
  },
  {
   "cell_type": "code",
   "execution_count": null,
   "id": "30a09999",
   "metadata": {},
   "outputs": [],
   "source": [
    "import pandas as pd\n",
    "import logging\n",
    "import sys\n",
    "import numpy as np\n",
    "import matplotlib.pyplot as plt\n",
    "import seaborn as sns\n",
    "import jsonlines\n",
    "import pandas as pd\n",
    "import ast \n",
    "from IPython.display import display\n",
    "from sklearn.preprocessing import StandardScaler, LabelEncoder\n",
    "\n",
    "sys.path.append(\"../config_documents\")"
   ]
  },
  {
   "cell_type": "markdown",
   "id": "574bca7a",
   "metadata": {},
   "source": [
    "## Configuracion del login"
   ]
  },
  {
   "cell_type": "code",
   "execution_count": null,
   "id": "f93a7e79",
   "metadata": {},
   "outputs": [],
   "source": [
    "for handler in logging.root.handlers[:]:\n",
    "    logging.root.removeHandler(handler)\n",
    "\n",
    "logging.basicConfig(\n",
    "    level=logging.INFO,\n",
    "    format='%(asctime)s - %(levelname)s - %(message)s',\n",
    "    handlers=[logging.StreamHandler(sys.stdout)]\n",
    ")"
   ]
  },
  {
   "cell_type": "markdown",
   "id": "cf8a6a0c",
   "metadata": {},
   "source": [
    "## Cargar archivo"
   ]
  },
  {
   "cell_type": "code",
   "execution_count": null,
   "id": "a6c28e94",
   "metadata": {},
   "outputs": [],
   "source": [
    "data = []\n",
    "with jsonlines.open(\"../source/MLA_100k.jsonlines\") as reader:\n",
    "    for obj in reader:\n",
    "        data.append(obj)\n",
    "df = pd.DataFrame(data)\n",
    "\n",
    "df.to_csv(\"../source/productos.csv\", index=False)\n",
    "\n",
    "df = pd.read_csv(\"../source/productos.csv\")\n"
   ]
  },
  {
   "cell_type": "code",
   "execution_count": null,
   "id": "17a7e33d",
   "metadata": {},
   "outputs": [],
   "source": [
    "display(df.info())"
   ]
  },
  {
   "cell_type": "code",
   "execution_count": null,
   "id": "0c18ec59",
   "metadata": {},
   "outputs": [],
   "source": [
    "columnas_analizadas = [\n",
    "    'seller_address', 'shipping', 'geolocation',\n",
    "    'non_mercado_pago_payment_methods', 'pictures',\n",
    "    'attributes', 'descriptions'\n",
    "]\n",
    "\n",
    "for col in columnas_analizadas:\n",
    "    df[col] = df[col].apply(lambda x: ast.literal_eval(x) if pd.notnull(x) else None)\n",
    "\n",
    "\n",
    "df['latitude'] = df['seller_address'].apply(lambda x: x.get('latitude') if x else None)\n",
    "df['longitude'] = df['seller_address'].apply(lambda x: x.get('longitude') if x else None)\n",
    "df['country'] = df['seller_address'].apply(lambda x: x.get('country', {}).get('name') if x else None)\n",
    "df['state'] = df['seller_address'].apply(lambda x: x.get('state', {}).get('name') if x else None)\n",
    "df['city'] = df['seller_address'].apply(lambda x: x.get('city', {}).get('name') if x else None)\n",
    "df['neighborhood'] = df['seller_address'].apply(lambda x: x.get('search_location', {}).get('neighborhood', {}).get('name') if x else None)\n",
    "\n",
    "df['free_shipping'] = df['shipping'].apply(lambda x: x.get('free_shipping') if x else None)\n",
    "df['shipping_mode'] = df['shipping'].apply(lambda x: x.get('mode') if x else None)\n",
    "df['local_pick_up'] = df['shipping'].apply(lambda x: x.get('local_pick_up') if x else None)\n",
    "\n",
    "df['geo_lat'] = df['geolocation'].apply(lambda x: x.get('latitude') if x else None)\n",
    "df['geo_lon'] = df['geolocation'].apply(lambda x: x.get('longitude') if x else None)\n",
    "\n",
    "df['num_pictures'] = df['pictures'].apply(lambda x: len(x) if isinstance(x, list) else 0)\n",
    "\n",
    "df['num_non_mp_methods'] = df['non_mercado_pago_payment_methods'].apply(lambda x: len(x) if isinstance(x, list) else 0)\n",
    "\n",
    "df['title_length'] = df['title'].apply(lambda x: len(x) if isinstance(x, str) else 0)\n",
    "\n",
    "df['price_diff'] = df['price'] - df['base_price']\n",
    "\n",
    "columnas_finales = [\n",
    "    'id', 'title', 'condition', 'price', 'base_price', 'price_diff',\n",
    "    'sold_quantity', 'available_quantity', 'accepts_mercadopago',\n",
    "    'free_shipping', 'shipping_mode', 'local_pick_up',\n",
    "    'latitude', 'longitude', 'country', 'state', 'city', 'neighborhood',\n",
    "    'num_pictures', 'num_non_mp_methods', 'title_length'\n",
    "]\n",
    "\n",
    "df_final = df[columnas_finales].copy()\n",
    "\n",
    "\n",
    "df_final.to_csv(\"../source/products_dataset.csv\", index=False)"
   ]
  },
  {
   "cell_type": "markdown",
   "id": "54227e21",
   "metadata": {},
   "source": [
    "## Analisis basico"
   ]
  },
  {
   "cell_type": "code",
   "execution_count": null,
   "id": "44a6d26c",
   "metadata": {},
   "outputs": [],
   "source": [
    "pd.set_option('display.max_columns', None)  \n",
    "pd.set_option('display.width', None)  \n",
    "pd.set_option('display.max_rows', None)\n",
    "\n",
    "display('Primeras filas del dataset:\\n',df_final.head())\n",
    "print(df.dtypes)\n",
    "print(df['condition'].unique())\n",
    "print(df['shipping_mode'].unique())\n",
    "print(df.isnull().sum())"
   ]
  },
  {
   "cell_type": "markdown",
   "id": "789ce3f7",
   "metadata": {},
   "source": [
    "## Graficas"
   ]
  },
  {
   "cell_type": "code",
   "execution_count": null,
   "id": "8707bf5b",
   "metadata": {},
   "outputs": [],
   "source": [
    "sns.countplot(x='condition', data=df)\n",
    "plt.title('Distribución de la variable objetivo: Condition')\n",
    "plt.show()"
   ]
  },
  {
   "cell_type": "code",
   "execution_count": null,
   "id": "e2dc7c28",
   "metadata": {},
   "outputs": [],
   "source": [
    "numerical_columns = df.select_dtypes(include=[float, int]).columns \n",
    "correlation_matrix = df[numerical_columns].corr()  \n",
    "\n",
    "plt.figure(figsize=(12, 8))\n",
    "sns.heatmap(correlation_matrix, annot=True, cmap='coolwarm', fmt='.2f', linewidths=0.5)\n",
    "plt.title('Matriz de Correlación de Variables Numéricas')\n",
    "plt.show()"
   ]
  },
  {
   "cell_type": "code",
   "execution_count": null,
   "id": "e33c7b90",
   "metadata": {},
   "outputs": [],
   "source": [
    "plt.figure(figsize=(10, 6))\n",
    "sns.boxplot(x=df['price'])\n",
    "plt.title('Boxplot de Price')\n",
    "plt.show()\n",
    "\n",
    "\n",
    "plt.figure(figsize=(10, 6))\n",
    "sns.scatterplot(x=df.index, y=df['price'], alpha=0.6)\n",
    "plt.title('Dispersión de Price')\n",
    "plt.show()"
   ]
  },
  {
   "cell_type": "code",
   "execution_count": null,
   "id": "5335f815",
   "metadata": {},
   "outputs": [],
   "source": [
    "plt.figure(figsize=(10, 6))\n",
    "sns.scatterplot(x=df['price'], y=df['base_price'])\n",
    "plt.title('Relación entre Price y Base Price')\n",
    "plt.xlabel('Price')\n",
    "plt.ylabel('Base Price')\n",
    "plt.show()"
   ]
  },
  {
   "cell_type": "markdown",
   "id": "2d5316c6",
   "metadata": {},
   "source": [
    "## Limpieza y transformacion"
   ]
  },
  {
   "cell_type": "code",
   "execution_count": null,
   "id": "a9015924",
   "metadata": {},
   "outputs": [],
   "source": [
    "def clean_columns(df_final):\n",
    "    columns_to_remove = ['id', 'title', 'local_pick_up', 'latitude', 'longitude']  \n",
    "    df_cleaned = df_final.drop(columns=columns_to_remove, errors='ignore')  \n",
    "    return df_cleaned\n",
    "\n",
    "def encode_condition(df_cleaned):\n",
    "    if df_cleaned['condition'].dtype != 'object':  \n",
    "        df_cleaned['condition'] = df_cleaned['condition'].map({1.0: 'new', 0.0: 'used'})\n",
    "    \n",
    "    le = LabelEncoder()\n",
    "    df_cleaned['condition'] = le.fit_transform(df_cleaned['condition'])\n",
    "    \n",
    "    df_cleaned['condition'] = df_cleaned['condition'].astype('int')\n",
    "    \n",
    "    print(f\"Valores únicos en 'condition' después de la codificación: {df_cleaned['condition'].unique()}\")\n",
    "    print(f\"Tipo de 'condition' después de la conversión: {df_cleaned['condition'].dtype}\")\n",
    "    \n",
    "    return df_cleaned\n",
    "\n",
    "def encode_categorical_columns(df_cleaned):\n",
    "    categorical_columns = ['shipping_mode', 'accepts_mercadopago', 'free_shipping', 'country', 'state', 'city', 'neighborhood']\n",
    "    \n",
    "    for col in categorical_columns:\n",
    "        df_cleaned[col] = df_cleaned[col].astype('category').cat.codes  \n",
    "\n",
    "    return df_cleaned\n",
    "\n",
    "def scale_features(df_cleaned, numerical_columns):\n",
    "    scaler = StandardScaler()\n",
    "    df_cleaned[numerical_columns] = scaler.fit_transform(df_cleaned[numerical_columns])\n",
    "    return df_cleaned\n",
    "\n",
    "def preprocess_data(df_final):\n",
    "    df_cleaned = clean_columns(df_final)\n",
    "    \n",
    "    df_cleaned = encode_condition(df_cleaned)\n",
    "    \n",
    "    df_cleaned = encode_categorical_columns(df_cleaned)\n",
    "    \n",
    "    numerical_columns = df_cleaned.select_dtypes(include=np.number).columns\n",
    "\n",
    "    df_cleaned = scale_features(df_cleaned, numerical_columns)\n",
    "    \n",
    "    df_cleaned['condition'] = df_cleaned['condition'].astype(int)\n",
    "\n",
    "    X = df_cleaned.drop(columns=['condition'])  \n",
    "    y = df_cleaned['condition']  \n",
    "    \n",
    "    df_cleaned.to_csv('../source/dataset_limpio.csv', index=False)\n",
    "\n",
    "    print(f\"Tipo de 'condition' después de guardar como CSV: {df_cleaned['condition'].dtype}\")\n",
    "    \n",
    "    return X, y\n",
    "\n",
    "\n",
    "\n",
    "X, y = preprocess_data(df_final)\n",
    "\n",
    "\n"
   ]
  }
 ],
 "metadata": {
  "kernelspec": {
   "display_name": "venv",
   "language": "python",
   "name": "python3"
  },
  "language_info": {
   "codemirror_mode": {
    "name": "ipython",
    "version": 3
   },
   "file_extension": ".py",
   "mimetype": "text/x-python",
   "name": "python",
   "nbconvert_exporter": "python",
   "pygments_lexer": "ipython3",
   "version": "3.12.3"
  }
 },
 "nbformat": 4,
 "nbformat_minor": 5
}
