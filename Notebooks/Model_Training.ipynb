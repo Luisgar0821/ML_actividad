{
 "cells": [
  {
   "cell_type": "markdown",
   "id": "e11c0e59",
   "metadata": {},
   "source": [
    "## Entrenamiento de modelo"
   ]
  },
  {
   "cell_type": "markdown",
   "id": "a92aba5a",
   "metadata": {},
   "source": [
    "## Importaciones"
   ]
  },
  {
   "cell_type": "code",
   "execution_count": null,
   "id": "adb2a4a6",
   "metadata": {},
   "outputs": [],
   "source": [
    "import pandas as pd\n",
    "from sklearn.model_selection import train_test_split\n",
    "from sklearn.linear_model import LogisticRegression\n",
    "from sklearn.metrics import classification_report, confusion_matrix\n",
    "from sklearn.ensemble import RandomForestClassifier\n",
    "from xgboost import XGBClassifier\n",
    "from IPython.display import display"
   ]
  },
  {
   "cell_type": "markdown",
   "id": "df53bec7",
   "metadata": {},
   "source": [
    "## Cargar dataset limpio"
   ]
  },
  {
   "cell_type": "code",
   "execution_count": null,
   "id": "d2236462",
   "metadata": {},
   "outputs": [],
   "source": [
    "df = pd.read_csv('../source/dataset_limpio.csv')\n",
    "display(df)"
   ]
  },
  {
   "cell_type": "code",
   "execution_count": null,
   "id": "d94798e8",
   "metadata": {},
   "outputs": [],
   "source": [
    "print(f\"Tipo de 'condition': {df['condition'].dtype}\")"
   ]
  },
  {
   "cell_type": "markdown",
   "id": "42a69b9a",
   "metadata": {},
   "source": [
    "## Preparacion de entrenamiento"
   ]
  },
  {
   "cell_type": "code",
   "execution_count": null,
   "id": "1f7f86be",
   "metadata": {},
   "outputs": [],
   "source": [
    "X = df.drop(columns=['condition'])  # Características (todo excepto 'condition')\n",
    "y = df['condition']  # Variable objetivo ('condition')\n",
    "\n",
    "# Dividir el dataset en entrenamiento y prueba (80% - 20%)\n",
    "X_train, X_test, y_train, y_test = train_test_split(X, y, test_size=0.2, random_state=42)\n",
    "\n",
    "# Verificación de las dimensiones de los conjuntos de entrenamiento y prueba\n",
    "print(f\"Tamaño del conjunto de entrenamiento: {X_train.shape[0]}\")\n",
    "print(f\"Tamaño del conjunto de prueba: {X_test.shape[0]}\")"
   ]
  },
  {
   "cell_type": "markdown",
   "id": "6392bd39",
   "metadata": {},
   "source": [
    "## Logic Regression"
   ]
  },
  {
   "cell_type": "code",
   "execution_count": null,
   "id": "e741d947",
   "metadata": {},
   "outputs": [],
   "source": [
    "# Crear y entrenar el modelo de regresión logística\n",
    "lr_model = LogisticRegression(max_iter=1000)\n",
    "lr_model.fit(X_train, y_train)\n",
    "\n",
    "# Realizar predicciones con el modelo de regresión logística\n",
    "y_pred_lr = lr_model.predict(X_test)\n",
    "\n",
    "from sklearn.metrics import classification_report, confusion_matrix\n",
    "\n",
    "# Evaluar el modelo de regresión logística\n",
    "print(\"Matriz de Confusión (Regresión Logística):\\n\", confusion_matrix(y_test, y_pred_lr))\n",
    "print(\"\\nReporte de clasificación (Regresión Logística):\\n\", classification_report(y_test, y_pred_lr))"
   ]
  },
  {
   "cell_type": "markdown",
   "id": "9f88d815",
   "metadata": {},
   "source": [
    "## Random Forest"
   ]
  },
  {
   "cell_type": "code",
   "execution_count": null,
   "id": "a7d2bf5b",
   "metadata": {},
   "outputs": [],
   "source": [
    "# Crear y entrenar el modelo de Random Forest\n",
    "rf_model = RandomForestClassifier(n_estimators=100, random_state=42)\n",
    "rf_model.fit(X_train, y_train)\n",
    "\n",
    "# Realizar predicciones con el modelo de Random Forest\n",
    "y_pred_rf = rf_model.predict(X_test)\n",
    "\n",
    "print(\"Matriz de Confusión (Random Forest):\\n\", confusion_matrix(y_test, y_pred_rf))\n",
    "print(\"\\nReporte de clasificación (Random Forest):\\n\", classification_report(y_test, y_pred_rf))"
   ]
  },
  {
   "cell_type": "markdown",
   "id": "db9a1f40",
   "metadata": {},
   "source": [
    "## XGBoost"
   ]
  },
  {
   "cell_type": "code",
   "execution_count": null,
   "id": "24820f4d",
   "metadata": {},
   "outputs": [],
   "source": [
    "# Crear y entrenar el modelo de XGBoost\n",
    "xgb_model = XGBClassifier(random_state=42)\n",
    "xgb_model.fit(X_train, y_train)\n",
    "\n",
    "# Realizar predicciones con el modelo de XGBoost\n",
    "y_pred_xgb = xgb_model.predict(X_test)\n",
    "\n",
    "print(\"\\nMatriz de Confusión (XGBoost):\\n\", confusion_matrix(y_test, y_pred_xgb))\n",
    "print(\"\\nReporte de clasificación (XGBoost):\\n\", classification_report(y_test, y_pred_xgb))"
   ]
  }
 ],
 "metadata": {
  "kernelspec": {
   "display_name": "venv",
   "language": "python",
   "name": "python3"
  },
  "language_info": {
   "codemirror_mode": {
    "name": "ipython",
    "version": 3
   },
   "file_extension": ".py",
   "mimetype": "text/x-python",
   "name": "python",
   "nbconvert_exporter": "python",
   "pygments_lexer": "ipython3",
   "version": "3.12.3"
  }
 },
 "nbformat": 4,
 "nbformat_minor": 5
}
